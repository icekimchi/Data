{
 "cells": [
  {
   "cell_type": "code",
   "execution_count": 1,
   "id": "25835118",
   "metadata": {},
   "outputs": [],
   "source": [
    "# Library import\n",
    "import pandas as pd\n",
    "import numpy as np\n",
    "import matplotlib.pyplot as plt\n",
    "import seaborn as sns\n",
    "\n",
    "from sklearn.model_selection import train_test_split\n",
    "from sklearn.neighbors import KNeighborsClassifier\n",
    "from sklearn.metrics import confusion_matrix\n",
    "from sklearn import metrics"
   ]
  },
  {
   "cell_type": "code",
   "execution_count": 2,
   "id": "63b1f27f",
   "metadata": {},
   "outputs": [],
   "source": [
    "#Dataset 불러오기\n",
    "df = pd.read_csv('happydata.csv')"
   ]
  },
  {
   "cell_type": "code",
   "execution_count": 3,
   "id": "9c1f736b",
   "metadata": {},
   "outputs": [
    {
     "name": "stdout",
     "output_type": "stream",
     "text": [
      "   infoavail  housecost  schoolquality  policetrust  streetquality  ëvents  \\\n",
      "0          3          3              3            4              2       4   \n",
      "1          3          2              3            5              4       3   \n",
      "2          5          3              3            3              3       5   \n",
      "3          5          4              3            3              3       5   \n",
      "4          5          4              3            3              3       5   \n",
      "\n",
      "   happy  \n",
      "0      0  \n",
      "1      0  \n",
      "2      1  \n",
      "3      0  \n",
      "4      0  \n",
      "(143, 7)\n",
      "<class 'pandas.core.frame.DataFrame'>\n",
      "RangeIndex: 143 entries, 0 to 142\n",
      "Data columns (total 7 columns):\n",
      " #   Column         Non-Null Count  Dtype\n",
      "---  ------         --------------  -----\n",
      " 0   infoavail      143 non-null    int64\n",
      " 1   housecost      143 non-null    int64\n",
      " 2   schoolquality  143 non-null    int64\n",
      " 3   policetrust    143 non-null    int64\n",
      " 4   streetquality  143 non-null    int64\n",
      " 5   ëvents         143 non-null    int64\n",
      " 6   happy          143 non-null    int64\n",
      "dtypes: int64(7)\n",
      "memory usage: 7.9 KB\n",
      "None\n"
     ]
    }
   ],
   "source": [
    "#Data 확인\n",
    "print(df.head())\n",
    "print(df.shape)\n",
    "print(df.info())"
   ]
  },
  {
   "cell_type": "code",
   "execution_count": 4,
   "id": "4b338845",
   "metadata": {},
   "outputs": [
    {
     "data": {
      "text/html": [
       "<div>\n",
       "<style scoped>\n",
       "    .dataframe tbody tr th:only-of-type {\n",
       "        vertical-align: middle;\n",
       "    }\n",
       "\n",
       "    .dataframe tbody tr th {\n",
       "        vertical-align: top;\n",
       "    }\n",
       "\n",
       "    .dataframe thead th {\n",
       "        text-align: right;\n",
       "    }\n",
       "</style>\n",
       "<table border=\"1\" class=\"dataframe\">\n",
       "  <thead>\n",
       "    <tr style=\"text-align: right;\">\n",
       "      <th></th>\n",
       "      <th>infoavail</th>\n",
       "      <th>housecost</th>\n",
       "      <th>schoolquality</th>\n",
       "      <th>policetrust</th>\n",
       "      <th>streetquality</th>\n",
       "      <th>ëvents</th>\n",
       "      <th>happy</th>\n",
       "    </tr>\n",
       "  </thead>\n",
       "  <tbody>\n",
       "    <tr>\n",
       "      <th>count</th>\n",
       "      <td>143.000000</td>\n",
       "      <td>143.000000</td>\n",
       "      <td>143.000000</td>\n",
       "      <td>143.000000</td>\n",
       "      <td>143.000000</td>\n",
       "      <td>143.000000</td>\n",
       "      <td>143.000000</td>\n",
       "    </tr>\n",
       "    <tr>\n",
       "      <th>mean</th>\n",
       "      <td>4.314685</td>\n",
       "      <td>2.538462</td>\n",
       "      <td>3.265734</td>\n",
       "      <td>3.699301</td>\n",
       "      <td>3.615385</td>\n",
       "      <td>4.216783</td>\n",
       "      <td>0.538462</td>\n",
       "    </tr>\n",
       "    <tr>\n",
       "      <th>std</th>\n",
       "      <td>0.799820</td>\n",
       "      <td>1.118155</td>\n",
       "      <td>0.992586</td>\n",
       "      <td>0.888383</td>\n",
       "      <td>1.131639</td>\n",
       "      <td>0.848693</td>\n",
       "      <td>0.500271</td>\n",
       "    </tr>\n",
       "    <tr>\n",
       "      <th>min</th>\n",
       "      <td>1.000000</td>\n",
       "      <td>1.000000</td>\n",
       "      <td>1.000000</td>\n",
       "      <td>1.000000</td>\n",
       "      <td>1.000000</td>\n",
       "      <td>1.000000</td>\n",
       "      <td>0.000000</td>\n",
       "    </tr>\n",
       "    <tr>\n",
       "      <th>25%</th>\n",
       "      <td>4.000000</td>\n",
       "      <td>2.000000</td>\n",
       "      <td>3.000000</td>\n",
       "      <td>3.000000</td>\n",
       "      <td>3.000000</td>\n",
       "      <td>4.000000</td>\n",
       "      <td>0.000000</td>\n",
       "    </tr>\n",
       "    <tr>\n",
       "      <th>50%</th>\n",
       "      <td>5.000000</td>\n",
       "      <td>3.000000</td>\n",
       "      <td>3.000000</td>\n",
       "      <td>4.000000</td>\n",
       "      <td>4.000000</td>\n",
       "      <td>4.000000</td>\n",
       "      <td>1.000000</td>\n",
       "    </tr>\n",
       "    <tr>\n",
       "      <th>75%</th>\n",
       "      <td>5.000000</td>\n",
       "      <td>3.000000</td>\n",
       "      <td>4.000000</td>\n",
       "      <td>4.000000</td>\n",
       "      <td>4.000000</td>\n",
       "      <td>5.000000</td>\n",
       "      <td>1.000000</td>\n",
       "    </tr>\n",
       "    <tr>\n",
       "      <th>max</th>\n",
       "      <td>5.000000</td>\n",
       "      <td>5.000000</td>\n",
       "      <td>5.000000</td>\n",
       "      <td>5.000000</td>\n",
       "      <td>5.000000</td>\n",
       "      <td>5.000000</td>\n",
       "      <td>1.000000</td>\n",
       "    </tr>\n",
       "  </tbody>\n",
       "</table>\n",
       "</div>"
      ],
      "text/plain": [
       "        infoavail   housecost  schoolquality  policetrust  streetquality  \\\n",
       "count  143.000000  143.000000     143.000000   143.000000     143.000000   \n",
       "mean     4.314685    2.538462       3.265734     3.699301       3.615385   \n",
       "std      0.799820    1.118155       0.992586     0.888383       1.131639   \n",
       "min      1.000000    1.000000       1.000000     1.000000       1.000000   \n",
       "25%      4.000000    2.000000       3.000000     3.000000       3.000000   \n",
       "50%      5.000000    3.000000       3.000000     4.000000       4.000000   \n",
       "75%      5.000000    3.000000       4.000000     4.000000       4.000000   \n",
       "max      5.000000    5.000000       5.000000     5.000000       5.000000   \n",
       "\n",
       "           ëvents       happy  \n",
       "count  143.000000  143.000000  \n",
       "mean     4.216783    0.538462  \n",
       "std      0.848693    0.500271  \n",
       "min      1.000000    0.000000  \n",
       "25%      4.000000    0.000000  \n",
       "50%      4.000000    1.000000  \n",
       "75%      5.000000    1.000000  \n",
       "max      5.000000    1.000000  "
      ]
     },
     "execution_count": 4,
     "metadata": {},
     "output_type": "execute_result"
    }
   ],
   "source": [
    "df.describe()"
   ]
  },
  {
   "cell_type": "code",
   "execution_count": 5,
   "id": "e301bdde",
   "metadata": {},
   "outputs": [
    {
     "data": {
      "text/plain": [
       "infoavail        0\n",
       "housecost        0\n",
       "schoolquality    0\n",
       "policetrust      0\n",
       "streetquality    0\n",
       "ëvents           0\n",
       "happy            0\n",
       "dtype: int64"
      ]
     },
     "execution_count": 5,
     "metadata": {},
     "output_type": "execute_result"
    }
   ],
   "source": [
    "# CHECKING FOR NULL VALUES\n",
    "df.isnull().sum()"
   ]
  },
  {
   "cell_type": "code",
   "execution_count": 6,
   "id": "857b0568",
   "metadata": {},
   "outputs": [
    {
     "data": {
      "text/plain": [
       "18"
      ]
     },
     "execution_count": 6,
     "metadata": {},
     "output_type": "execute_result"
    }
   ],
   "source": [
    "df.duplicated().sum()"
   ]
  },
  {
   "cell_type": "code",
   "execution_count": 7,
   "id": "b245b6b3",
   "metadata": {},
   "outputs": [
    {
     "data": {
      "text/html": [
       "<div>\n",
       "<style scoped>\n",
       "    .dataframe tbody tr th:only-of-type {\n",
       "        vertical-align: middle;\n",
       "    }\n",
       "\n",
       "    .dataframe tbody tr th {\n",
       "        vertical-align: top;\n",
       "    }\n",
       "\n",
       "    .dataframe thead th {\n",
       "        text-align: right;\n",
       "    }\n",
       "</style>\n",
       "<table border=\"1\" class=\"dataframe\">\n",
       "  <thead>\n",
       "    <tr style=\"text-align: right;\">\n",
       "      <th></th>\n",
       "      <th>infoavail</th>\n",
       "      <th>housecost</th>\n",
       "      <th>schoolquality</th>\n",
       "      <th>policetrust</th>\n",
       "      <th>streetquality</th>\n",
       "      <th>ëvents</th>\n",
       "      <th>happy</th>\n",
       "    </tr>\n",
       "  </thead>\n",
       "  <tbody>\n",
       "    <tr>\n",
       "      <th>0</th>\n",
       "      <td>3</td>\n",
       "      <td>3</td>\n",
       "      <td>3</td>\n",
       "      <td>4</td>\n",
       "      <td>2</td>\n",
       "      <td>4</td>\n",
       "      <td>0</td>\n",
       "    </tr>\n",
       "    <tr>\n",
       "      <th>1</th>\n",
       "      <td>3</td>\n",
       "      <td>2</td>\n",
       "      <td>3</td>\n",
       "      <td>5</td>\n",
       "      <td>4</td>\n",
       "      <td>3</td>\n",
       "      <td>0</td>\n",
       "    </tr>\n",
       "    <tr>\n",
       "      <th>2</th>\n",
       "      <td>5</td>\n",
       "      <td>3</td>\n",
       "      <td>3</td>\n",
       "      <td>3</td>\n",
       "      <td>3</td>\n",
       "      <td>5</td>\n",
       "      <td>1</td>\n",
       "    </tr>\n",
       "    <tr>\n",
       "      <th>3</th>\n",
       "      <td>5</td>\n",
       "      <td>4</td>\n",
       "      <td>3</td>\n",
       "      <td>3</td>\n",
       "      <td>3</td>\n",
       "      <td>5</td>\n",
       "      <td>0</td>\n",
       "    </tr>\n",
       "    <tr>\n",
       "      <th>5</th>\n",
       "      <td>5</td>\n",
       "      <td>5</td>\n",
       "      <td>3</td>\n",
       "      <td>5</td>\n",
       "      <td>5</td>\n",
       "      <td>5</td>\n",
       "      <td>1</td>\n",
       "    </tr>\n",
       "    <tr>\n",
       "      <th>...</th>\n",
       "      <td>...</td>\n",
       "      <td>...</td>\n",
       "      <td>...</td>\n",
       "      <td>...</td>\n",
       "      <td>...</td>\n",
       "      <td>...</td>\n",
       "      <td>...</td>\n",
       "    </tr>\n",
       "    <tr>\n",
       "      <th>137</th>\n",
       "      <td>5</td>\n",
       "      <td>2</td>\n",
       "      <td>3</td>\n",
       "      <td>4</td>\n",
       "      <td>4</td>\n",
       "      <td>3</td>\n",
       "      <td>1</td>\n",
       "    </tr>\n",
       "    <tr>\n",
       "      <th>138</th>\n",
       "      <td>5</td>\n",
       "      <td>3</td>\n",
       "      <td>3</td>\n",
       "      <td>1</td>\n",
       "      <td>3</td>\n",
       "      <td>5</td>\n",
       "      <td>0</td>\n",
       "    </tr>\n",
       "    <tr>\n",
       "      <th>139</th>\n",
       "      <td>5</td>\n",
       "      <td>2</td>\n",
       "      <td>3</td>\n",
       "      <td>4</td>\n",
       "      <td>2</td>\n",
       "      <td>5</td>\n",
       "      <td>1</td>\n",
       "    </tr>\n",
       "    <tr>\n",
       "      <th>141</th>\n",
       "      <td>4</td>\n",
       "      <td>3</td>\n",
       "      <td>3</td>\n",
       "      <td>4</td>\n",
       "      <td>4</td>\n",
       "      <td>5</td>\n",
       "      <td>0</td>\n",
       "    </tr>\n",
       "    <tr>\n",
       "      <th>142</th>\n",
       "      <td>5</td>\n",
       "      <td>3</td>\n",
       "      <td>2</td>\n",
       "      <td>5</td>\n",
       "      <td>5</td>\n",
       "      <td>5</td>\n",
       "      <td>0</td>\n",
       "    </tr>\n",
       "  </tbody>\n",
       "</table>\n",
       "<p>125 rows × 7 columns</p>\n",
       "</div>"
      ],
      "text/plain": [
       "     infoavail  housecost  schoolquality  policetrust  streetquality  ëvents  \\\n",
       "0            3          3              3            4              2       4   \n",
       "1            3          2              3            5              4       3   \n",
       "2            5          3              3            3              3       5   \n",
       "3            5          4              3            3              3       5   \n",
       "5            5          5              3            5              5       5   \n",
       "..         ...        ...            ...          ...            ...     ...   \n",
       "137          5          2              3            4              4       3   \n",
       "138          5          3              3            1              3       5   \n",
       "139          5          2              3            4              2       5   \n",
       "141          4          3              3            4              4       5   \n",
       "142          5          3              2            5              5       5   \n",
       "\n",
       "     happy  \n",
       "0        0  \n",
       "1        0  \n",
       "2        1  \n",
       "3        0  \n",
       "5        1  \n",
       "..     ...  \n",
       "137      1  \n",
       "138      0  \n",
       "139      1  \n",
       "141      0  \n",
       "142      0  \n",
       "\n",
       "[125 rows x 7 columns]"
      ]
     },
     "execution_count": 7,
     "metadata": {},
     "output_type": "execute_result"
    }
   ],
   "source": [
    "df.drop_duplicates()"
   ]
  },
  {
   "cell_type": "code",
   "execution_count": 8,
   "id": "9543b2a6",
   "metadata": {},
   "outputs": [
    {
     "data": {
      "text/plain": [
       "<AxesSubplot:xlabel='happy'>"
      ]
     },
     "execution_count": 8,
     "metadata": {},
     "output_type": "execute_result"
    },
    {
     "data": {
      "image/png": "[encoded data removed]",
      "text/plain": [
       "<Figure size 432x288 with 1 Axes>"
      ]
     },
     "metadata": {
      "needs_background": "light"
     },
     "output_type": "display_data"
    }
   ],
   "source": [
    "df.groupby('happy').mean().plot(kind='bar')"
   ]
  },
  {
   "cell_type": "code",
   "execution_count": 9,
   "id": "d9d9cedf",
   "metadata": {},
   "outputs": [
    {
     "data": {
      "image/png": "[encoded data removed]",
      "text/plain": [
       "<Figure size 720x432 with 9 Axes>"
      ]
     },
     "metadata": {
      "needs_background": "light"
     },
     "output_type": "display_data"
    }
   ],
   "source": [
    "# Create histograms for each variable\n",
    "df.hist(figsize=(10, 6))\n",
    "plt.tight_layout()\n",
    "plt.show()"
   ]
  },
  {
   "cell_type": "code",
   "execution_count": 10,
   "id": "def0a4a9",
   "metadata": {},
   "outputs": [
    {
     "data": {
      "image/png": "[encoded data removed]",
      "text/plain": [
       "<Figure size 720x720 with 8 Axes>"
      ]
     },
     "metadata": {
      "needs_background": "light"
     },
     "output_type": "display_data"
    }
   ],
   "source": [
    "# Creating subplots\n",
    "fig, axes = plt.subplots(nrows=2, ncols=4, figsize=(10, 10))\n",
    "# Flatten the axes array to iterate over subplots\n",
    "axes = axes.flatten()\n",
    "\n",
    "categorical_cols = df.columns[df.dtypes == object]\n",
    "numberic_cols = [x for x in df.columns if x not in categorical_cols]\n",
    "# Plot boxplots for each column\n",
    "for i, column in enumerate(numberic_cols):\n",
    "    axes[i].boxplot(df[column])\n",
    "    axes[i].set_title(column)\n",
    "\n",
    "# Hide any unused subplots\n",
    "for j in range(len(numberic_cols), len(axes)):\n",
    "    axes[j].axis('off')\n",
    "\n",
    "# Adjust spacing between subplots\n",
    "plt.tight_layout()\n",
    "\n",
    "# Show the plots\n",
    "plt.show()"
   ]
  },
  {
   "cell_type": "markdown",
   "id": "31092b26",
   "metadata": {},
   "source": [
    "### Train Test Split 나누기"
   ]
  },
  {
   "cell_type": "code",
   "execution_count": 11,
   "id": "5a3b510c",
   "metadata": {},
   "outputs": [],
   "source": [
    "train_points = df.drop(\"happy\", axis=1)\n",
    "train_labels = df[\"happy\"]\n",
    "\n",
    "# standardize the dataset\n",
    "from sklearn.preprocessing import StandardScaler\n",
    "\n",
    "scaler = StandardScaler()\n",
    "train_points_scaled = scaler.fit_transform(train_points)\n",
    "\n",
    "# Import train_test_split function\n",
    "from sklearn.model_selection import train_test_split\n",
    "\n",
    "# Split dataset into training set and test set\n",
    "X_train, X_test, y_train, y_test = train_test_split(train_points_scaled, train_labels, \n",
    "                                                    test_size=0.2, random_state=5)"
   ]
  },
  {
   "cell_type": "markdown",
   "id": "26ae560a",
   "metadata": {},
   "source": [
    "### DecisionTree "
   ]
  },
  {
   "cell_type": "code",
   "execution_count": 12,
   "id": "884692dc",
   "metadata": {},
   "outputs": [],
   "source": [
    "#Import Decision Tree\n",
    "from sklearn.tree import DecisionTreeClassifier\n",
    "\n",
    "#Create a Gaussian Classifier\n",
    "classifier = DecisionTreeClassifier(random_state=0)\n",
    "\n",
    "#Train the model using the training sets\n",
    "classifier.fit(X_train,y_train)\n",
    "\n",
    "guesses = classifier.predict(X_test)"
   ]
  },
  {
   "cell_type": "code",
   "execution_count": 13,
   "id": "b6a2e6df",
   "metadata": {},
   "outputs": [
    {
     "data": {
      "text/plain": [
       "array([1, 1, 1, 0, 0, 1, 0, 1, 0, 0, 0, 0, 1, 1, 0, 0, 0, 1, 1, 0, 1, 1,\n",
       "       0, 1, 0, 0, 0, 1, 0], dtype=int64)"
      ]
     },
     "execution_count": 13,
     "metadata": {},
     "output_type": "execute_result"
    }
   ],
   "source": [
    "guesses"
   ]
  },
  {
   "cell_type": "markdown",
   "id": "21ef7a79",
   "metadata": {},
   "source": [
    "### DecisionTree 첫 ACcuracy "
   ]
  },
  {
   "cell_type": "code",
   "execution_count": 14,
   "id": "6cfced81",
   "metadata": {},
   "outputs": [
    {
     "name": "stdout",
     "output_type": "stream",
     "text": [
      "Confusion Matrix:  [[7 7]\n",
      " [9 6]]\n",
      "Accuracy: 0.4482758620689655\n"
     ]
    }
   ],
   "source": [
    "#Import scikit-learn metrics module for checking confusion matrix and accuracy\n",
    "from sklearn.metrics import confusion_matrix\n",
    "from sklearn.metrics import accuracy_score\n",
    "\n",
    "# Confusion matrix\n",
    "print(\"Confusion Matrix: \", confusion_matrix(y_test, guesses))\n",
    "\n",
    "# Model Accuracy, how often is the classifier correct?\n",
    "print(\"Accuracy:\", accuracy_score(y_test, guesses))\n"
   ]
  },
  {
   "cell_type": "markdown",
   "id": "69951d72",
   "metadata": {},
   "source": [
    "###  Random Forest"
   ]
  },
  {
   "cell_type": "code",
   "execution_count": 15,
   "id": "83fe88d6",
   "metadata": {},
   "outputs": [],
   "source": [
    "#Import Random Forest\n",
    "from sklearn.ensemble import RandomForestClassifier\n",
    "\n",
    "#Create a Gaussian Classifier\n",
    "classifier = RandomForestClassifier(random_state=0, n_estimators=3)\n",
    "\n",
    "#Train the model using the training sets y_pred=clf.predict(X_test)\n",
    "classifier.fit(X_train,y_train)\n",
    "\n",
    "guesses = classifier.predict(X_test)"
   ]
  },
  {
   "cell_type": "markdown",
   "id": "029fefd2",
   "metadata": {},
   "source": [
    "### Random Forest 첫 정확도"
   ]
  },
  {
   "cell_type": "code",
   "execution_count": 16,
   "id": "fd185a5d",
   "metadata": {},
   "outputs": [
    {
     "name": "stdout",
     "output_type": "stream",
     "text": [
      "Confusion Matrix:  [[ 9  5]\n",
      " [ 4 11]]\n",
      "Accuracy: 0.6896551724137931\n"
     ]
    }
   ],
   "source": [
    "# Confusion matrix\n",
    "print(\"Confusion Matrix: \", confusion_matrix(y_test, guesses))\n",
    "\n",
    "# Model Accuracy, how often is the classifier correct?\n",
    "print(\"Accuracy:\", accuracy_score(y_test, guesses))"
   ]
  },
  {
   "cell_type": "code",
   "execution_count": 19,
   "id": "ca59266f",
   "metadata": {},
   "outputs": [
    {
     "name": "stdout",
     "output_type": "stream",
     "text": [
      "Confusion Matrix:  [[11  3]\n",
      " [ 5 10]]\n",
      "Accuracy: 0.7241379310344828\n"
     ]
    }
   ],
   "source": [
    "#Import Random Forest\n",
    "from sklearn.ensemble import RandomForestClassifier\n",
    "\n",
    "#Create a Gaussian Classifier\n",
    "classifier = RandomForestClassifier(random_state=0, n_estimators=10)\n",
    "\n",
    "#Train the model using the training sets y_pred=clf.predict(X_test)\n",
    "classifier.fit(X_train,y_train)\n",
    "\n",
    "guesses = classifier.predict(X_test)\n",
    "\n",
    "print(\"Confusion Matrix: \", confusion_matrix(y_test, guesses))\n",
    "\n",
    "# Model Accuracy, how often is the classifier correct?\n",
    "print(\"Accuracy:\", accuracy_score(y_test, guesses))"
   ]
  },
  {
   "cell_type": "markdown",
   "id": "4e7df3e7",
   "metadata": {},
   "source": [
    "### Random Forest 정확도 향상시키기"
   ]
  },
  {
   "cell_type": "code",
   "execution_count": 23,
   "id": "ba8ef6d9",
   "metadata": {},
   "outputs": [
    {
     "name": "stdout",
     "output_type": "stream",
     "text": [
      "[0.5862068965517241, 0.6896551724137931, 0.6896551724137931, 0.7241379310344828, 0.5862068965517241, 0.6206896551724138, 0.5862068965517241, 0.7241379310344828, 0.6551724137931034, 0.7241379310344828, 0.6896551724137931, 0.6896551724137931, 0.6551724137931034, 0.6896551724137931, 0.6896551724137931, 0.6551724137931034, 0.6551724137931034, 0.6551724137931034, 0.6551724137931034, 0.6206896551724138, 0.6551724137931034, 0.6551724137931034, 0.6551724137931034, 0.6551724137931034, 0.6551724137931034, 0.6206896551724138, 0.6206896551724138, 0.6206896551724138, 0.6551724137931034, 0.6206896551724138, 0.6551724137931034, 0.6551724137931034, 0.6206896551724138, 0.6551724137931034, 0.6551724137931034, 0.6206896551724138, 0.6206896551724138, 0.6206896551724138, 0.6206896551724138, 0.6206896551724138, 0.6206896551724138, 0.6206896551724138, 0.6206896551724138, 0.6206896551724138, 0.6206896551724138, 0.5862068965517241, 0.5862068965517241, 0.5862068965517241, 0.5862068965517241, 0.5862068965517241, 0.5862068965517241, 0.5862068965517241, 0.6206896551724138, 0.5862068965517241, 0.5862068965517241, 0.5862068965517241, 0.5862068965517241, 0.6206896551724138, 0.6206896551724138, 0.6206896551724138, 0.6206896551724138, 0.6206896551724138, 0.6206896551724138, 0.6206896551724138, 0.5862068965517241, 0.5862068965517241, 0.5862068965517241, 0.6206896551724138, 0.5862068965517241, 0.6206896551724138, 0.5862068965517241, 0.6206896551724138, 0.5862068965517241, 0.6206896551724138, 0.6206896551724138, 0.6206896551724138, 0.6206896551724138, 0.6206896551724138, 0.5862068965517241, 0.6206896551724138, 0.5862068965517241, 0.5862068965517241, 0.5862068965517241, 0.5862068965517241, 0.5862068965517241, 0.6206896551724138, 0.5862068965517241, 0.5862068965517241, 0.5862068965517241, 0.5862068965517241, 0.5862068965517241, 0.5862068965517241, 0.5862068965517241, 0.5862068965517241, 0.5862068965517241, 0.5862068965517241, 0.5862068965517241, 0.6206896551724138, 0.5862068965517241]\n"
     ]
    },
    {
     "data": {
      "image/png": "[encoded data removed]",
      "text/plain": [
       "<Figure size 432x288 with 1 Axes>"
      ]
     },
     "metadata": {
      "needs_background": "light"
     },
     "output_type": "display_data"
    }
   ],
   "source": [
    "from sklearn.ensemble import RandomForestClassifier\n",
    "from sklearn.metrics import accuracy_score\n",
    "\n",
    "n_range = range(1, 100)\n",
    "accuracy_scores = []\n",
    "\n",
    "for n in n_range:\n",
    "    classifier = RandomForestClassifier(random_state=0, n_estimators=n)\n",
    "    classifier.fit(X_train, y_train)\n",
    "    guesses = classifier.predict(X_test)\n",
    "    accuracy_scores.append(accuracy_score(y_test, guesses))\n",
    "print(accuracy_scores)\n",
    "\n",
    "import matplotlib.pyplot as plt\n",
    "\n",
    "plt.plot(n_range, accuracy_scores)\n",
    "plt.xlabel('Value of n for Random Forest')\n",
    "plt.ylabel('Testing Accuracy')\n",
    "plt.show()\n"
   ]
  },
  {
   "cell_type": "markdown",
   "id": "742dd246",
   "metadata": {},
   "source": [
    "### AdaBoost 정확도"
   ]
  },
  {
   "cell_type": "code",
   "execution_count": 24,
   "id": "e3e73fb4",
   "metadata": {},
   "outputs": [
    {
     "name": "stdout",
     "output_type": "stream",
     "text": [
      "[0.7586206896551724, 0.6551724137931034, 0.6896551724137931, 0.6896551724137931, 0.6896551724137931, 0.6896551724137931, 0.6551724137931034, 0.6551724137931034, 0.6206896551724138, 0.6206896551724138, 0.6206896551724138, 0.6551724137931034, 0.6551724137931034, 0.6551724137931034, 0.6551724137931034, 0.6551724137931034, 0.6551724137931034, 0.6551724137931034, 0.6551724137931034, 0.6551724137931034, 0.6551724137931034, 0.6896551724137931, 0.6551724137931034, 0.6206896551724138, 0.6551724137931034, 0.6551724137931034, 0.6551724137931034, 0.6551724137931034, 0.6206896551724138, 0.6206896551724138, 0.6206896551724138, 0.6551724137931034, 0.5517241379310345, 0.5517241379310345, 0.5517241379310345, 0.5517241379310345, 0.5517241379310345, 0.5517241379310345, 0.5517241379310345, 0.5517241379310345, 0.5862068965517241, 0.5517241379310345, 0.5862068965517241, 0.4827586206896552, 0.5517241379310345, 0.5172413793103449, 0.5172413793103449, 0.5172413793103449, 0.5517241379310345, 0.5172413793103449, 0.5172413793103449, 0.5172413793103449, 0.5172413793103449, 0.5172413793103449, 0.5172413793103449, 0.5172413793103449, 0.4827586206896552, 0.4827586206896552, 0.5517241379310345, 0.5172413793103449, 0.5517241379310345, 0.5517241379310345, 0.5517241379310345, 0.5517241379310345, 0.5517241379310345, 0.5517241379310345, 0.5517241379310345, 0.5517241379310345, 0.5172413793103449, 0.5517241379310345, 0.5517241379310345, 0.5517241379310345, 0.5517241379310345, 0.5517241379310345, 0.5517241379310345, 0.5517241379310345, 0.5517241379310345, 0.6206896551724138, 0.6206896551724138, 0.5517241379310345, 0.5517241379310345, 0.5517241379310345, 0.5517241379310345, 0.5517241379310345, 0.5172413793103449, 0.5172413793103449, 0.5517241379310345, 0.5517241379310345, 0.5517241379310345, 0.5517241379310345, 0.5172413793103449, 0.5172413793103449, 0.5172413793103449, 0.5517241379310345, 0.5172413793103449, 0.5172413793103449, 0.5172413793103449, 0.5172413793103449, 0.5172413793103449]\n"
     ]
    },
    {
     "data": {
      "image/png": "[encoded data removed]",
      "text/plain": [
       "<Figure size 432x288 with 1 Axes>"
      ]
     },
     "metadata": {
      "needs_background": "light"
     },
     "output_type": "display_data"
    }
   ],
   "source": [
    "n_range = range(1, 100)\n",
    "accuracy_scores = []\n",
    "\n",
    "for n in n_range:\n",
    "    classifier = AdaBoostClassifier(random_state=0, n_estimators=n)\n",
    "    classifier.fit(X_train, y_train)\n",
    "    guesses = classifier.predict(X_test)\n",
    "    accuracy_scores.append(accuracy_score(y_test, guesses))\n",
    "print(accuracy_scores)\n",
    "\n",
    "import matplotlib.pyplot as plt\n",
    "\n",
    "plt.plot(n_range, accuracy_scores)\n",
    "plt.xlabel('Value of n for Random Forest')\n",
    "plt.ylabel('Testing Accuracy')\n",
    "plt.show()\n"
   ]
  },
  {
   "cell_type": "markdown",
   "id": "570cf1ee",
   "metadata": {},
   "source": [
    "### Stack"
   ]
  },
  {
   "cell_type": "code",
   "execution_count": 153,
   "id": "1b0850fe",
   "metadata": {},
   "outputs": [
    {
     "name": "stdout",
     "output_type": "stream",
     "text": [
      "[0.5172413793103449, 0.7241379310344828, 0.6206896551724138, 0.6551724137931034, 0.6896551724137931, 0.5517241379310345, 0.5862068965517241, 0.5862068965517241, 0.4827586206896552, 0.5862068965517241, 0.6206896551724138, 0.7931034482758621, 0.6206896551724138, 0.6206896551724138, 0.5862068965517241, 0.5517241379310345, 0.4482758620689655, 0.5517241379310345, 0.5172413793103449, 0.41379310344827586, 0.4827586206896552, 0.5862068965517241, 0.6206896551724138, 0.41379310344827586, 0.5172413793103449, 0.41379310344827586, 0.4482758620689655, 0.6206896551724138, 0.5517241379310345, 0.6551724137931034, 0.4827586206896552, 0.5517241379310345, 0.41379310344827586, 0.5172413793103449, 0.5172413793103449, 0.5517241379310345, 0.4827586206896552, 0.4827586206896552, 0.5862068965517241, 0.5172413793103449, 0.4482758620689655, 0.5517241379310345, 0.41379310344827586, 0.41379310344827586, 0.41379310344827586, 0.4482758620689655, 0.4482758620689655, 0.4482758620689655, 0.5172413793103449, 0.3793103448275862, 0.3793103448275862, 0.4827586206896552, 0.5172413793103449, 0.5172413793103449, 0.4482758620689655, 0.5172413793103449, 0.4827586206896552, 0.5172413793103449, 0.6206896551724138, 0.5862068965517241, 0.5172413793103449, 0.5862068965517241, 0.5862068965517241, 0.5517241379310345, 0.5172413793103449, 0.4482758620689655, 0.5172413793103449, 0.5172413793103449, 0.5172413793103449, 0.4827586206896552, 0.5862068965517241, 0.6206896551724138, 0.5172413793103449, 0.5172413793103449, 0.5517241379310345, 0.4482758620689655, 0.5862068965517241, 0.5517241379310345, 0.6206896551724138, 0.5172413793103449, 0.5517241379310345, 0.5517241379310345, 0.5172413793103449, 0.5172413793103449, 0.4827586206896552, 0.5172413793103449, 0.5517241379310345, 0.6551724137931034, 0.6206896551724138, 0.5172413793103449, 0.4482758620689655, 0.5517241379310345, 0.5517241379310345, 0.5172413793103449, 0.6206896551724138, 0.5517241379310345, 0.5517241379310345, 0.5862068965517241, 0.5517241379310345]\n"
     ]
    },
    {
     "data": {
      "image/png": "[encoded data removed]",
      "text/plain": [
       "<Figure size 432x288 with 1 Axes>"
      ]
     },
     "metadata": {
      "needs_background": "light"
     },
     "output_type": "display_data"
    }
   ],
   "source": [
    "from sklearn.neighbors import KNeighborsClassifier\n",
    "from sklearn.svm import SVC\n",
    "from sklearn.tree import DecisionTreeClassifier\n",
    "from sklearn.ensemble import StackingClassifier\n",
    "\n",
    "n_range = range(1, 50)\n",
    "accuracy_scores = []\n",
    "\n",
    "for n in n_range:\n",
    "    base_models = [\n",
    "        ('rf', RandomForestClassifier(random_state=0, n_estimators=4)),\n",
    "        ('ada', AdaBoostClassifier(random_state=0, n_estimators=n))\n",
    "    ]\n",
    "    classifier = StackingClassifier(estimators=base_models, final_estimator=DecisionTreeClassifier())\n",
    "    classifier.fit(X_train, y_train)\n",
    "    guesses = classifier.predict(X_test)\n",
    "    accuracy_scores.append(accuracy_score(y_test, guesses))\n",
    "print(accuracy_scores)\n",
    "\n",
    "import matplotlib.pyplot as plt\n",
    "\n",
    "plt.plot(n_range, accuracy_scores)\n",
    "plt.xlabel('Value of n for Random Forest')\n",
    "plt.ylabel('Testing Accuracy')\n",
    "plt.show()"
   ]
  },
  {
   "cell_type": "markdown",
   "id": "3e67b5ab",
   "metadata": {},
   "source": [
    "## 0.7931034482758621로 증가하였음"
   ]
  },
  {
   "cell_type": "code",
   "execution_count": 164,
   "id": "0d3c966e",
   "metadata": {},
   "outputs": [
    {
     "name": "stdout",
     "output_type": "stream",
     "text": [
      "[0.7931034482758621]\n"
     ]
    }
   ],
   "source": [
    "base_models = [\n",
    "    ('rf', RandomForestClassifier(random_state=0, n_estimators=4)),\n",
    "    ('ada', AdaBoostClassifier(random_state=0, n_estimators=12))\n",
    "]\n",
    "\n",
    "classifier = StackingClassifier(estimators=base_models, final_estimator=DecisionTreeClassifier())\n",
    "classifier.fit(X_train, y_train)\n",
    "guesses = classifier.predict(X_test)\n",
    "accuracy_scores.append(accuracy_score(y_test, guesses))\n",
    "print(accuracy_scores)"
   ]
  },
  {
   "cell_type": "code",
   "execution_count": 165,
   "id": "ad913670",
   "metadata": {},
   "outputs": [
    {
     "name": "stdout",
     "output_type": "stream",
     "text": [
      "[0.7241379310344828, 0.6206896551724138, 0.6206896551724138, 0.7931034482758621, 0.7931034482758621, 0.7241379310344828, 0.7241379310344828, 0.6206896551724138, 0.5517241379310345, 0.5517241379310345, 0.6551724137931034, 0.5862068965517241, 0.6551724137931034, 0.5172413793103449, 0.5517241379310345, 0.6206896551724138, 0.6206896551724138, 0.7241379310344828, 0.6551724137931034, 0.7241379310344828, 0.7931034482758621, 0.7241379310344828, 0.7586206896551724, 0.6896551724137931, 0.7586206896551724, 0.7586206896551724, 0.7241379310344828, 0.7241379310344828, 0.6896551724137931, 0.6896551724137931, 0.6551724137931034, 0.7241379310344828, 0.7586206896551724, 0.7241379310344828, 0.7241379310344828, 0.7586206896551724, 0.6896551724137931, 0.6551724137931034, 0.6551724137931034, 0.6551724137931034, 0.7241379310344828, 0.6896551724137931, 0.6206896551724138, 0.6896551724137931, 0.5517241379310345, 0.7241379310344828, 0.6896551724137931, 0.5862068965517241, 0.6896551724137931]\n"
     ]
    },
    {
     "data": {
      "image/png": "[encoded data removed]",
      "text/plain": [
       "<Figure size 432x288 with 1 Axes>"
      ]
     },
     "metadata": {
      "needs_background": "light"
     },
     "output_type": "display_data"
    }
   ],
   "source": [
    "from sklearn.neighbors import KNeighborsClassifier\n",
    "from sklearn.svm import SVC\n",
    "from sklearn.tree import DecisionTreeClassifier\n",
    "from sklearn.ensemble import StackingClassifier\n",
    "\n",
    "n_range = range(1, 50)\n",
    "accuracy_scores = []\n",
    "\n",
    "for n in n_range:\n",
    "    base_models = [\n",
    "        ('rf', RandomForestClassifier(random_state=0, n_estimators=n)),\n",
    "        ('ada', AdaBoostClassifier(random_state=0, n_estimators=12))\n",
    "    ]\n",
    "    classifier = StackingClassifier(estimators=base_models, final_estimator=DecisionTreeClassifier())\n",
    "    classifier.fit(X_train, y_train)\n",
    "    guesses = classifier.predict(X_test)\n",
    "    accuracy_scores.append(accuracy_score(y_test, guesses))\n",
    "print(accuracy_scores)\n",
    "\n",
    "import matplotlib.pyplot as plt\n",
    "\n",
    "plt.plot(n_range, accuracy_scores)\n",
    "plt.xlabel('Value of n for Random Forest')\n",
    "plt.ylabel('Testing Accuracy')\n",
    "plt.show()"
   ]
  },
  {
   "cell_type": "code",
   "execution_count": 179,
   "id": "288132ae",
   "metadata": {},
   "outputs": [
    {
     "name": "stdout",
     "output_type": "stream",
     "text": [
      "Confusion Matrix:  [[ 5  9]\n",
      " [ 2 13]]\n",
      "Accuracy: 0.6206896551724138\n"
     ]
    }
   ],
   "source": [
    "from sklearn.linear_model import LogisticRegression\n",
    "\n",
    "base_models = [\n",
    "    ('rf1', RandomForestClassifier(random_state=0, n_estimators=4)),\n",
    "    ('rf2', RandomForestClassifier(random_state=0, n_estimators=4))\n",
    "]\n",
    "\n",
    "classifier = StackingClassifier(estimators=base_models, final_estimator=LogisticRegression(solver='liblinear', random_state=13))\n",
    "classifier.fit(X_train, y_train)\n",
    "guesses = classifier.predict(X_test)\n",
    "\n",
    "print(\"Confusion Matrix: \", confusion_matrix(y_test, guesses))\n",
    "\n",
    "# Model Accuracy, how often is the classifier correct?\n",
    "print(\"Accuracy:\", accuracy_score(y_test, guesses))"
   ]
  },
  {
   "cell_type": "code",
   "execution_count": 181,
   "id": "922d6312",
   "metadata": {},
   "outputs": [
    {
     "name": "stdout",
     "output_type": "stream",
     "text": [
      "Confusion Matrix:  [[ 9  5]\n",
      " [ 3 12]]\n",
      "Accuracy: 0.7241379310344828\n"
     ]
    }
   ],
   "source": [
    "base_models = [\n",
    "    ('ada1', AdaBoostClassifier(random_state=0, n_estimators=12)),\n",
    "    ('ada2', AdaBoostClassifier(random_state=0, n_estimators=12))\n",
    "]\n",
    "\n",
    "classifier = StackingClassifier(estimators=base_models, final_estimator=DecisionTreeClassifier())\n",
    "classifier.fit(X_train, y_train)\n",
    "guesses = classifier.predict(X_test)\n",
    "\n",
    "print(\"Confusion Matrix: \", confusion_matrix(y_test, guesses))\n",
    "\n",
    "# Model Accuracy, how often is the classifier correct?\n",
    "print(\"Accuracy:\", accuracy_score(y_test, guesses))"
   ]
  },
  {
   "cell_type": "markdown",
   "id": "609b7a89",
   "metadata": {},
   "source": [
    "### RF, ADA + LogisticRegression"
   ]
  },
  {
   "cell_type": "code",
   "execution_count": 174,
   "id": "840937ac",
   "metadata": {},
   "outputs": [
    {
     "name": "stdout",
     "output_type": "stream",
     "text": [
      "Confusion Matrix:  [[ 5  9]\n",
      " [ 2 13]]\n",
      "Accuracy: 0.6206896551724138\n"
     ]
    }
   ],
   "source": [
    "from sklearn.linear_model import LogisticRegression\n",
    "\n",
    "base_models = [\n",
    "    ('rf', RandomForestClassifier(random_state=0, n_estimators=4)),\n",
    "    ('ada', AdaBoostClassifier(random_state=0, n_estimators=12))\n",
    "]\n",
    "\n",
    "classifier = StackingClassifier(estimators=base_models, final_estimator=LogisticRegression(solver='liblinear', random_state=13))\n",
    "classifier.fit(X_train, y_train)\n",
    "guesses = classifier.predict(X_test)\n",
    "\n",
    "print(\"Confusion Matrix: \", confusion_matrix(y_test, guesses))\n",
    "\n",
    "# Model Accuracy, how often is the classifier correct?\n",
    "print(\"Accuracy:\", accuracy_score(y_test, guesses))"
   ]
  },
  {
   "cell_type": "code",
   "execution_count": 183,
   "id": "942dfc40",
   "metadata": {},
   "outputs": [
    {
     "name": "stdout",
     "output_type": "stream",
     "text": [
      "Confusion Matrix:  [[ 1 13]\n",
      " [ 0 15]]\n",
      "Accuracy: 0.5517241379310345\n"
     ]
    }
   ],
   "source": [
    "base_models = [\n",
    "    ('ada1', AdaBoostClassifier(random_state=0, n_estimators=12)),\n",
    "    ('ada2', AdaBoostClassifier(random_state=0, n_estimators=12))\n",
    "]\n",
    "\n",
    "classifier = StackingClassifier(estimators=base_models, final_estimator=LogisticRegression())\n",
    "classifier.fit(X_train, y_train)\n",
    "guesses = classifier.predict(X_test)\n",
    "\n",
    "print(\"Confusion Matrix: \", confusion_matrix(y_test, guesses))\n",
    "\n",
    "# Model Accuracy, how often is the classifier correct?\n",
    "print(\"Accuracy:\", accuracy_score(y_test, guesses))"
   ]
  }
 ],
 "metadata": {
  "kernelspec": {
   "display_name": "Python 3 (ipykernel)",
   "language": "python",
   "name": "python3"
  },
  "language_info": {
   "codemirror_mode": {
    "name": "ipython",
    "version": 3
   },
   "file_extension": ".py",
   "mimetype": "text/x-python",
   "name": "python",
   "nbconvert_exporter": "python",
   "pygments_lexer": "ipython3",
   "version": "3.9.12"
  }
 },
 "nbformat": 4,
 "nbformat_minor": 5
}
